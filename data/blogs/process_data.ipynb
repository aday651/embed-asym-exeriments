{
 "metadata": {
  "language_info": {
   "codemirror_mode": {
    "name": "ipython",
    "version": 3
   },
   "file_extension": ".py",
   "mimetype": "text/x-python",
   "name": "python",
   "nbconvert_exporter": "python",
   "pygments_lexer": "ipython3",
   "version": "3.8.5-final"
  },
  "orig_nbformat": 2,
  "kernelspec": {
   "name": "python3",
   "display_name": "Python 3.8.5 64-bit ('tensorflow': conda)",
   "metadata": {
    "interpreter": {
     "hash": "6a0239598d3a834913ff2b6f4f0a21228585e491ed9cf8a3bb85d7054bd26998"
    }
   }
  }
 },
 "nbformat": 4,
 "nbformat_minor": 2,
 "cells": [
  {
   "cell_type": "code",
   "execution_count": 5,
   "metadata": {},
   "outputs": [
    {
     "output_type": "execute_result",
     "data": {
      "text/plain": [
       "(14476, 2)"
      ]
     },
     "metadata": {},
     "execution_count": 5
    }
   ],
   "source": [
    "import numpy as np \n",
    "\n",
    "# Load the edges data (edges.csv)\n",
    "edges = np.loadtxt(open(\"edges.csv\", \"rb\"), delimiter=\",\")\n",
    "\n",
    "# Load the users in the dataset (nodes.csv)\n",
    "# (note: users not zero indexed)\n",
    "users = np.loadtxt(open(\"nodes.csv\", \"rb\"), delimiter=\",\")\n",
    "\n",
    "# Load the user-group membership (group-edges.csv)\n",
    "# In each line, the first entry represents user, and the 2nd entry is the group index\n",
    "# (note: groups also not zero indexed)\n",
    "classes = np.loadtxt(open(\"group-edges.csv\", \"rb\"), delimiter=\",\")"
   ]
  },
  {
   "cell_type": "code",
   "execution_count": 7,
   "metadata": {},
   "outputs": [
    {
     "output_type": "stream",
     "name": "stdout",
     "text": [
      "(333983, 2)\n(10312,)\n(14476, 2)\n10312.0\n"
     ]
    }
   ],
   "source": [
    "# View shape of files\n",
    "print(edges.shape)\n",
    "print(users.shape)\n",
    "print(classes.shape)\n",
    "\n",
    "# Okay: \n",
    "# Check that users is contiguous - yes it is....\n",
    "print(max(users))\n",
    "\n",
    "# 39 groups, 10312 users"
   ]
  },
  {
   "cell_type": "code",
   "execution_count": 12,
   "metadata": {},
   "outputs": [],
   "source": [
    "# Zero index the edge list\n",
    "edge_list = edges - 1\n",
    "edge_list = edge_list.astype(np.int32)\n",
    "\n",
    "# Zero index the classes list\n",
    "classes = classes - 1\n",
    "classes = classes.astype(np.int32)\n",
    "\n",
    "# Create an array of dimensions (num_users, num_groups)\n",
    "# denoting membership to the groups\n",
    "group = np.zeros(shape=(10312, 39), dtype=np.int32)\n",
    "\n",
    "for row in classes:\n",
    "    group[row[0], row[1]] = 1\n",
    "\n",
    "# Check that each user belongs to at least one group\n",
    "group_row_sums = np.sum(group, axis=-1)\n",
    "sum(group_row_sums == 0)\n",
    "\n",
    "# Get a npz file with keys 'edge_list' for the edges, 'group' for the group membership vector\n",
    "np.savez(\"blogs.npz\", edge_list=edge_list, group=group)"
   ]
  },
  {
   "cell_type": "code",
   "execution_count": null,
   "metadata": {},
   "outputs": [],
   "source": []
  }
 ]
}